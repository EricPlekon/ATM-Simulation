{
 "cells": [
  {
   "cell_type": "markdown",
   "id": "1dcb5959",
   "metadata": {},
   "source": [
    "Python for Data & Analytics<br>\n",
    "Chapter 20, section 4\n",
    "\n",
    "ATM Queueing Simulation"
   ]
  },
  {
   "cell_type": "markdown",
   "id": "b3b17c65",
   "metadata": {},
   "source": [
    "#### A) Arrival times with the exponential distribution"
   ]
  },
  {
   "cell_type": "code",
   "execution_count": 1,
   "id": "077196f6",
   "metadata": {},
   "outputs": [],
   "source": [
    "import numpy.random as npr\n",
    "import matplotlib.pyplot as plt\n",
    "import queue"
   ]
  },
  {
   "cell_type": "code",
   "execution_count": 2,
   "id": "a6deaf88",
   "metadata": {},
   "outputs": [],
   "source": [
    "# the seed allows for reproducibility of pseudo-random numbers\n",
    "npr.seed(10)"
   ]
  },
  {
   "cell_type": "code",
   "execution_count": 3,
   "id": "3ecb3102",
   "metadata": {},
   "outputs": [
    {
     "data": {
      "text/plain": [
       "0.04918114818487275"
      ]
     },
     "execution_count": 3,
     "metadata": {},
     "output_type": "execute_result"
    }
   ],
   "source": [
    "# set an assumed arrival rate of 30 customers per hour\n",
    "# then generate a random inter-arrival time (in hours)\n",
    "arrivalRate = 30 # average number of customers arriving in an hour\n",
    "npr.exponential(1/arrivalRate)"
   ]
  },
  {
   "cell_type": "code",
   "execution_count": 4,
   "id": "0196b1d5",
   "metadata": {},
   "outputs": [
    {
     "data": {
      "text/plain": [
       "2"
      ]
     },
     "execution_count": 4,
     "metadata": {},
     "output_type": "execute_result"
    }
   ],
   "source": [
    "# generate a random inter-arrival time, and convert to seconds\n",
    "int(npr.exponential(1/arrivalRate) * 60 * 60)"
   ]
  },
  {
   "cell_type": "code",
   "execution_count": 5,
   "id": "0c2fc7e2",
   "metadata": {},
   "outputs": [],
   "source": [
    "# generate many inter-arrival times, in seconds\n",
    "n = 10000\n",
    "times = npr.exponential(1/arrivalRate, n) * 60 * 60"
   ]
  },
  {
   "cell_type": "code",
   "execution_count": 6,
   "id": "62908335",
   "metadata": {},
   "outputs": [
    {
     "data": {
      "image/png": "[encoded data removed]",
      "text/plain": [
       "<Figure size 432x288 with 1 Axes>"
      ]
     },
     "metadata": {
      "needs_background": "light"
     },
     "output_type": "display_data"
    }
   ],
   "source": [
    "# visualize the inter-arrival distribution\n",
    "plt.hist(times, bins=40)\n",
    "plt.show()"
   ]
  },
  {
   "cell_type": "code",
   "execution_count": 7,
   "id": "c0b94a6b",
   "metadata": {},
   "outputs": [],
   "source": [
    "# utility function to generate a random number of seconds\n",
    "#  according to a rate using Poisson assumption\n",
    "def genTime(rate):\n",
    "    t = npr.exponential(1/rate)*60*60\n",
    "    t = int(t)\n",
    "    return max(t, 1)"
   ]
  },
  {
   "cell_type": "code",
   "execution_count": 8,
   "id": "4688fe1b",
   "metadata": {},
   "outputs": [
    {
     "data": {
      "text/plain": [
       "79"
      ]
     },
     "execution_count": 8,
     "metadata": {},
     "output_type": "execute_result"
    }
   ],
   "source": [
    "# test the genTime() function\n",
    "genTime(arrivalRate)"
   ]
  },
  {
   "cell_type": "code",
   "execution_count": 9,
   "id": "ee921f6b",
   "metadata": {},
   "outputs": [],
   "source": [
    "# function to generate a list of random arrival times, based on an arrival rate\n",
    "def genArrivalTimes(rate, maxSeconds):\n",
    "    iat0 = genTime(rate)\n",
    "    if iat0 > maxSeconds: return []\n",
    "    result = [iat0]\n",
    "    iat = genTime(rate)\n",
    "    while (result[-1]+iat) < maxSeconds:\n",
    "        result.append(result[-1]+iat)\n",
    "        iat = genTime(rate)\n",
    "    return result"
   ]
  },
  {
   "cell_type": "code",
   "execution_count": 10,
   "id": "fe9e4c1e",
   "metadata": {},
   "outputs": [],
   "source": [
    "# generate a list of arrival times (arrivalRate previously set to 30)\n",
    "maxSeconds = 3600 # 60 minutes\n",
    "arrivalTimes = genArrivalTimes(arrivalRate, maxSeconds)"
   ]
  },
  {
   "cell_type": "code",
   "execution_count": 11,
   "id": "bee8a5be",
   "metadata": {},
   "outputs": [
    {
     "name": "stdout",
     "output_type": "stream",
     "text": [
      "[5, 44, 433, 557, 723, 751, 868, 927, 956, 1009, 1282, 1467, 1494, 1561, 1586, 1612, 1812, 1836, 1861, 1880, 2060, 2149, 2153, 2229, 2303, 2333, 2528, 2690, 2892, 3044, 3048, 3098, 3105, 3312, 3334, 3426]\n"
     ]
    }
   ],
   "source": [
    "# display the arrival times\n",
    "print(arrivalTimes)"
   ]
  },
  {
   "cell_type": "code",
   "execution_count": 12,
   "id": "1b9533fe",
   "metadata": {},
   "outputs": [
    {
     "data": {
      "image/png": "[encoded data removed]",
      "text/plain": [
       "<Figure size 1080x144 with 1 Axes>"
      ]
     },
     "metadata": {
      "needs_background": "light"
     },
     "output_type": "display_data"
    }
   ],
   "source": [
    "# visualize the arrival times\n",
    "f = plt.figure() \n",
    "f.set_figwidth(15) \n",
    "f.set_figheight(2) \n",
    "plt.scatter(arrivalTimes, len(arrivalTimes)*[1], s=5)\n",
    "plt.yticks([])\n",
    "plt.show()"
   ]
  },
  {
   "cell_type": "markdown",
   "id": "683ab92c",
   "metadata": {},
   "source": [
    "#### B) A Customer class"
   ]
  },
  {
   "cell_type": "code",
   "execution_count": 13,
   "id": "55fd32cc",
   "metadata": {},
   "outputs": [],
   "source": [
    "# a Customer keeps track of its times:\n",
    "#   arrival, service length, service start, service end\n",
    "class Customer:\n",
    "    # create a Customer instance\n",
    "    def __init__(self, arriveTime):\n",
    "        self.arriveTime = arriveTime\n",
    "        self.startTime = None\n",
    "        self.serveLength = None\n",
    "    # record a service event: start time and service time\n",
    "    def serve(self, startTime, serveLength):\n",
    "        self.startTime = startTime\n",
    "        self.serveLength = serveLength\n",
    "    # calculate when service ended\n",
    "    def endTime(self):\n",
    "        return self.startTime + self.serveLength\n",
    "    # calculate waiting time to be served\n",
    "    def waitTime(self):\n",
    "        if self.startTime == None: return None\n",
    "        return self.startTime - self.arriveTime"
   ]
  },
  {
   "cell_type": "code",
   "execution_count": 14,
   "id": "00d3594d",
   "metadata": {},
   "outputs": [
    {
     "name": "stdout",
     "output_type": "stream",
     "text": [
      "End time= 35\n",
      "Wait seconds= 5\n"
     ]
    }
   ],
   "source": [
    "# test the Customer class\n",
    "customer = Customer(20)\n",
    "customer.serve(25, 10)\n",
    "print('End time=', customer.endTime())\n",
    "print('Wait seconds=', customer.waitTime())"
   ]
  },
  {
   "cell_type": "markdown",
   "id": "39a44c46",
   "metadata": {},
   "source": [
    "#### C) Queueing Simulation"
   ]
  },
  {
   "cell_type": "code",
   "execution_count": 15,
   "id": "c1e36245",
   "metadata": {},
   "outputs": [],
   "source": [
    "# set the parameters\n",
    "serviceRate = 120    # average number of customers served per hour\n",
    "arrivalRate = 60     # average number of customers arriving in an hour\n",
    "totalTime = 8 * 60 * 60 # total time of simulation in seconds (8 hrs)\n",
    "# Initialize other variables\n",
    "qu = queue.Queue()   # as customers arrive, they are put into a Queue\n",
    "currentCustomer = None # current customer being served (or None)\n",
    "customersDone = []   # list of customers who have been served\n",
    "n = 0                # number of arrivals\n",
    "# Run the simulation\n",
    "nextArrival = genTime(arrivalRate) # time of first arrival\n",
    "for t in range(totalTime):         # simulate second-by-second\n",
    "    # EVENT DONE: is the server finished with the current customer?\n",
    "    if currentCustomer != None and currentCustomer.endTime() == t:\n",
    "        #print(\"Service complete\", t)\n",
    "        customersDone.append(currentCustomer)\n",
    "        currentCustomer = None\n",
    "    # EVENT ARRIVE: is there an arrival at this time?\n",
    "    if nextArrival == t:\n",
    "        #print(\"Arrival\", t)\n",
    "        customer = Customer(t)\n",
    "        qu.put(customer)\n",
    "        nextArrival = t + genTime(arrivalRate)\n",
    "        n += 1\n",
    "    # EVENT NEXT: is  server available and is there someone waiting?\n",
    "    if currentCustomer == None and not qu.empty():\n",
    "        #print(\"Service starts\", t)\n",
    "        currentCustomer = qu.get()\n",
    "        serviceTime = genTime(serviceRate)\n",
    "        currentCustomer.serve(t, serviceTime)"
   ]
  },
  {
   "cell_type": "code",
   "execution_count": 16,
   "id": "241c52d6",
   "metadata": {},
   "outputs": [
    {
     "name": "stdout",
     "output_type": "stream",
     "text": [
      "Number of arrivals: 460\n",
      "Number served: 456\n"
     ]
    }
   ],
   "source": [
    "# simulation summary counts\n",
    "print('Number of arrivals:', n)\n",
    "print('Number served:', len(customersDone))"
   ]
  },
  {
   "cell_type": "code",
   "execution_count": 17,
   "id": "ab07fab5",
   "metadata": {},
   "outputs": [
    {
     "name": "stdout",
     "output_type": "stream",
     "text": [
      "  #  arrive   start service    wait\n",
      "  1     157     157      29       0\n",
      "  2     173     186       2      13\n",
      "  3     291     291      54       0\n",
      "  4     302     345       1      43\n",
      "  5     452     452      26       0\n",
      "  6     481     481       2       0\n",
      "  7     546     546      13       0\n",
      "  8     612     612       1       0\n",
      "  9     691     691      76       0\n",
      " 10     707     767      72      60\n"
     ]
    }
   ],
   "source": [
    "# review some customer's arrival & start times, as well as their service & wait times \n",
    "nToDisplay = 10\n",
    "print('  #  arrive   start service    wait')\n",
    "for i in range(nToDisplay):\n",
    "    customer = customersDone[i]\n",
    "    print(f'{i+1:3d}'\n",
    "          f' {customer.arriveTime:7,d} {customer.startTime:7,d}'\n",
    "          f' {customer.serveLength:7,d} {customer.waitTime():7,d}')"
   ]
  },
  {
   "cell_type": "code",
   "execution_count": 18,
   "id": "a5890715",
   "metadata": {},
   "outputs": [],
   "source": [
    "# collect wait times in a list\n",
    "waitTimes = []\n",
    "for customer in customersDone:\n",
    "    if customer.waitTime() != None:\n",
    "       waitTimes.append(customer.waitTime())"
   ]
  },
  {
   "cell_type": "code",
   "execution_count": 19,
   "id": "2ef18b88",
   "metadata": {
    "scrolled": true
   },
   "outputs": [
    {
     "name": "stdout",
     "output_type": "stream",
     "text": [
      "average wait time: 28.4 seconds\n",
      "maximum wait time: 274 seconds\n"
     ]
    }
   ],
   "source": [
    "# report average and maximum wait times\n",
    "avgWaitTime = sum(waitTimes) / len(waitTimes)\n",
    "maxWaitTime = max(waitTimes)\n",
    "print(\"average wait time:\", round(avgWaitTime, 1), 'seconds')\n",
    "print(\"maximum wait time:\", maxWaitTime, 'seconds')"
   ]
  },
  {
   "cell_type": "code",
   "execution_count": 20,
   "id": "41b166ea",
   "metadata": {},
   "outputs": [
    {
     "data": {
      "image/png": "[encoded data removed]",
      "text/plain": [
       "<Figure size 432x288 with 1 Axes>"
      ]
     },
     "metadata": {
      "needs_background": "light"
     },
     "output_type": "display_data"
    }
   ],
   "source": [
    "# visualize distribution of wait times\n",
    "plt.hist(waitTimes, bins=20)\n",
    "plt.axvline(x=avgWaitTime, linestyle='dashed', color='black')\n",
    "plt.text(avgWaitTime+5,100,'average wait time',rotation=90)\n",
    "plt.title('Distribution of Wait Times')\n",
    "plt.xlabel('Wait Time (seconds)')\n",
    "plt.ylabel('Count')\n",
    "plt.show()"
   ]
  },
  {
   "cell_type": "code",
   "execution_count": 21,
   "id": "be97d842",
   "metadata": {},
   "outputs": [],
   "source": [
    "# calculate number of customers waiting more than 1 minute\n",
    "threshold = 60\n",
    "hiWaitCount = 0\n",
    "for waitTime in waitTimes:\n",
    "    if waitTime > threshold:\n",
    "        hiWaitCount += 1"
   ]
  },
  {
   "cell_type": "code",
   "execution_count": 22,
   "id": "95126169",
   "metadata": {},
   "outputs": [
    {
     "name": "stdout",
     "output_type": "stream",
     "text": [
      "Customers waiting more than 60 seconds: 18 %\n"
     ]
    }
   ],
   "source": [
    "# report % waiting over threshold\n",
    "hiWeightPct = hiWaitCount/len(waitTimes)*100\n",
    "print('Customers waiting more than', threshold, 'seconds:', round(hiWeightPct), '%')"
   ]
  },
  {
   "cell_type": "markdown",
   "id": "9f0a504e",
   "metadata": {},
   "source": [
    "Code supplement for: Python for Data & Analytics, (c) 2024 Rose River Software, LLC"
   ]
  }
 ],
 "metadata": {
  "kernelspec": {
   "display_name": "Python 3 (ipykernel)",
   "language": "python",
   "name": "python3"
  },
  "language_info": {
   "codemirror_mode": {
    "name": "ipython",
    "version": 3
   },
   "file_extension": ".py",
   "mimetype": "text/x-python",
   "name": "python",
   "nbconvert_exporter": "python",
   "pygments_lexer": "ipython3",
   "version": "3.11.5"
  }
 },
 "nbformat": 4,
 "nbformat_minor": 5
}
